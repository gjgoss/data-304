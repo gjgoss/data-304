{
 "cells": [
  {
   "cell_type": "code",
   "execution_count": 2,
   "id": "eabc1403-2ea6-4ea3-8775-972517558193",
   "metadata": {},
   "outputs": [],
   "source": [
    "import re"
   ]
  },
  {
   "cell_type": "code",
   "execution_count": 3,
   "id": "859b2c12-b8ef-458e-963f-822437421204",
   "metadata": {},
   "outputs": [
    {
     "name": "stdout",
     "output_type": "stream",
     "text": [
      "Sometimes, life surprises us with unexpected adventures. On sunny days, people often stroll through parks, chatting joyfully. However, when it rains, umbrellas bloom like colorful mushrooms. At noon, cafés fill with the aroma of coffee! Cats often nap lazily on windowsills, yet indifferent to the world outside. Meanwhile, students, lost in thought, scribble notes quickly. Between classes, laughter echoes in hallways. Words carry weight, but silence speaks volumes. Happiness is found in small, everyday moments. Bright stars dot the night sky, whispering secrets to those who listen closely.\n"
     ]
    }
   ],
   "source": [
    "with open(\"paragraph.txt\", 'r') as file:\n",
    "    text = file.read()\n",
    "\n",
    "print(text)"
   ]
  },
  {
   "cell_type": "code",
   "execution_count": 4,
   "id": "c9f9fec3-b9fb-4094-bdaf-911c45d22b94",
   "metadata": {},
   "outputs": [],
   "source": [
    "text_sent = text.split('. ')\n",
    "number_of_sentences = len(text_sent)"
   ]
  },
  {
   "cell_type": "code",
   "execution_count": 5,
   "id": "d4cbcb7e-c270-4761-8baf-e7801ebfce88",
   "metadata": {},
   "outputs": [],
   "source": [
    "text = re.sub(\",\",\"\",text)\n",
    "text = text.replace(\".\",\"\")\n",
    "text_word = text.lower().split(\" \")"
   ]
  },
  {
   "cell_type": "code",
   "execution_count": 6,
   "id": "af0076b6-9ff9-4c07-baac-e9f41605a635",
   "metadata": {},
   "outputs": [],
   "source": [
    "unique_word_count = len(set(text_word))"
   ]
  },
  {
   "cell_type": "code",
   "execution_count": 7,
   "id": "6f001f00-49a3-459a-a544-9c2d072c7799",
   "metadata": {},
   "outputs": [],
   "source": [
    "index_list = [60, 26, 10, 10, 41, 35, 26, 44, 48]\n",
    "msg_words = [text_word[i][0] for i in index_list]\n",
    "hidden_message = \"\".join(msg_words)"
   ]
  },
  {
   "cell_type": "code",
   "execution_count": 8,
   "id": "63985392-07c5-46fc-adfc-75fbba555d80",
   "metadata": {},
   "outputs": [
    {
     "name": "stdout",
     "output_type": "stream",
     "text": [
      "9\n",
      "80\n",
      "happycats\n"
     ]
    }
   ],
   "source": [
    "print(number_of_sentences) # 9\n",
    "print(unique_word_count) # 80\n",
    "print(hidden_message) #happycats"
   ]
  }
 ],
 "metadata": {
  "kernelspec": {
   "display_name": "Python 3 (ipykernel)",
   "language": "python",
   "name": "python3"
  },
  "language_info": {
   "codemirror_mode": {
    "name": "ipython",
    "version": 3
   },
   "file_extension": ".py",
   "mimetype": "text/x-python",
   "name": "python",
   "nbconvert_exporter": "python",
   "pygments_lexer": "ipython3",
   "version": "3.11.9"
  }
 },
 "nbformat": 4,
 "nbformat_minor": 5
}
