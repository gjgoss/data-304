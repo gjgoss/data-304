{
 "cells": [
  {
   "cell_type": "code",
   "execution_count": 1,
   "id": "fcf8c84e-90b6-4056-90bc-f97d885a9fd6",
   "metadata": {},
   "outputs": [],
   "source": [
    "from dataclasses import dataclass\n",
    "import sqlite3 as sql\n",
    "import pandas as pd"
   ]
  },
  {
   "cell_type": "code",
   "execution_count": null,
   "id": "54fed74f-6d8e-4d22-b332-889620f3e048",
   "metadata": {},
   "outputs": [],
   "source": [
    "conn = sql.connect('/Users/gretagoss/data_304/test/test.sqlite')"
   ]
  },
  {
   "cell_type": "code",
   "execution_count": null,
   "id": "6f794c0a-bca3-44cc-8a0d-f480cc39969c",
   "metadata": {},
   "outputs": [],
   "source": [
    "cursor = conn.cursor()\n",
    "cursor.execute(\"SELECT name FROM sqlite_master WHERE type='table';\")\n",
    "tables = cursor.fetchall()"
   ]
  },
  {
   "cell_type": "code",
   "execution_count": null,
   "id": "719c6a26-ec8b-4054-971f-2dbd688330e5",
   "metadata": {},
   "outputs": [],
   "source": []
  },
  {
   "cell_type": "code",
   "execution_count": 3,
   "id": "42b66e3d-f4e3-43e9-8989-8c46e9afdb8f",
   "metadata": {},
   "outputs": [],
   "source": [
    "@dataclass\n",
    "class Friend:\n",
    "    id: int #Primary Key\n",
    "    name: str\n",
    "    phone: int\n",
    "    pokemon_cards: int\n",
    "    met_on_date: str"
   ]
  },
  {
   "cell_type": "code",
   "execution_count": null,
   "id": "5d553714-b010-4908-a72f-ab6d3effde55",
   "metadata": {},
   "outputs": [],
   "source": [
    "def get_all_friends(conn):\n",
    "    cursor = conn.cursor()\n",
    "    cursor.execute(\"SELECT * FROM friends;\")\n",
    "    rows = cursor.fetchall()\n",
    "    return [Friend(*row) for row in rows]\n",
    "\n",
    "def insert_friend(friend: Friend, conn):\n",
    "    cursor = conn.cursor()\n",
    "    cursor.execute(\"\"\"INSERT INTO friends (name, phone, pokemon_cards, met_on_date), VALUES (?,?,?,?);\"\"\", \n",
    "                   (friend.name, friend.phone, friend.pokemon_cards, friend.met_on_date))\n",
    "    conn.commit()\n",
    "                                                                                                        \n",
    "                        "
   ]
  }
 ],
 "metadata": {
  "kernelspec": {
   "display_name": "Python 3 (ipykernel)",
   "language": "python",
   "name": "python3"
  },
  "language_info": {
   "codemirror_mode": {
    "name": "ipython",
    "version": 3
   },
   "file_extension": ".py",
   "mimetype": "text/x-python",
   "name": "python",
   "nbconvert_exporter": "python",
   "pygments_lexer": "ipython3",
   "version": "3.11.9"
  }
 },
 "nbformat": 4,
 "nbformat_minor": 5
}
